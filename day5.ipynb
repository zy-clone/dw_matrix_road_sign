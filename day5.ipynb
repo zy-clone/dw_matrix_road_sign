{
  "nbformat": 4,
  "nbformat_minor": 0,
  "metadata": {
    "colab": {
      "name": "day5.ipynb",
      "provenance": [],
      "collapsed_sections": [],
      "mount_file_id": "19DhZLdCFyWhZZC6BmKBgp2b6D_TfDiMo",
      "authorship_tag": "ABX9TyNplZKwsG9MjDhZNyatREE4"
    },
    "kernelspec": {
      "name": "python3",
      "display_name": "Python 3"
    },
    "accelerator": "GPU"
  },
  "cells": [
    {
      "cell_type": "code",
      "metadata": {
        "id": "isfWfzWn00Go",
        "colab_type": "code",
        "colab": {
          "base_uri": "https://localhost:8080/",
          "height": 176
        },
        "outputId": "1a12a429-abe6-43aa-98cf-0cdcdac728a9"
      },
      "source": [
        "#!pip install hyperopt"
      ],
      "execution_count": 1,
      "outputs": [
        {
          "output_type": "stream",
          "text": [
            "Requirement already satisfied: hyperopt in /usr/local/lib/python3.6/dist-packages (0.1.2)\n",
            "Requirement already satisfied: future in /usr/local/lib/python3.6/dist-packages (from hyperopt) (0.16.0)\n",
            "Requirement already satisfied: numpy in /usr/local/lib/python3.6/dist-packages (from hyperopt) (1.18.2)\n",
            "Requirement already satisfied: scipy in /usr/local/lib/python3.6/dist-packages (from hyperopt) (1.4.1)\n",
            "Requirement already satisfied: pymongo in /usr/local/lib/python3.6/dist-packages (from hyperopt) (3.10.1)\n",
            "Requirement already satisfied: tqdm in /usr/local/lib/python3.6/dist-packages (from hyperopt) (4.38.0)\n",
            "Requirement already satisfied: networkx in /usr/local/lib/python3.6/dist-packages (from hyperopt) (2.4)\n",
            "Requirement already satisfied: six in /usr/local/lib/python3.6/dist-packages (from hyperopt) (1.12.0)\n",
            "Requirement already satisfied: decorator>=4.3.0 in /usr/local/lib/python3.6/dist-packages (from networkx->hyperopt) (4.4.2)\n"
          ],
          "name": "stdout"
        }
      ]
    },
    {
      "cell_type": "code",
      "metadata": {
        "id": "Gu-RBT6M1KLC",
        "colab_type": "code",
        "colab": {
          "base_uri": "https://localhost:8080/",
          "height": 52
        },
        "outputId": "7c60b642-580f-41a8-e5ff-0e0284c7e2aa"
      },
      "source": [
        "import pandas as pd\n",
        "import numpy as np\n",
        "import os\n",
        "import datetime\n",
        "\n",
        "import matplotlib.pyplot as plt\n",
        "import seaborn as sns\n",
        "from skimage import color, exposure\n",
        "\n",
        "import tensorflow as tf\n",
        "from tensorflow.keras.models import Sequential\n",
        "from tensorflow.keras.layers import Conv2D, MaxPool2D, Dense, Flatten, Dropout\n",
        "from tensorflow.keras.utils import to_categorical\n",
        "\n",
        "from sklearn.metrics import accuracy_score\n",
        "\n",
        "from hyperopt import hp, STATUS_OK, tpe, Trials, fmin\n",
        "\n",
        "%load_ext tensorboard\n",
        "sns.set()"
      ],
      "execution_count": 15,
      "outputs": [
        {
          "output_type": "stream",
          "text": [
            "The tensorboard extension is already loaded. To reload it, use:\n",
            "  %reload_ext tensorboard\n"
          ],
          "name": "stdout"
        }
      ]
    },
    {
      "cell_type": "code",
      "metadata": {
        "id": "CW4NO-sU1aZa",
        "colab_type": "code",
        "colab": {
          "base_uri": "https://localhost:8080/",
          "height": 34
        },
        "outputId": "8d71d1fe-cb52-4d02-85b2-b32bc2f003dc"
      },
      "source": [
        "cd '/content/drive/My Drive/Colab Notebooks/dw_matrix/matrix_three/dw_matrix_road_sign'"
      ],
      "execution_count": 3,
      "outputs": [
        {
          "output_type": "stream",
          "text": [
            "/content/drive/My Drive/Colab Notebooks/dw_matrix/matrix_three/dw_matrix_road_sign\n"
          ],
          "name": "stdout"
        }
      ]
    },
    {
      "cell_type": "code",
      "metadata": {
        "id": "cqhxMa4c1fKA",
        "colab_type": "code",
        "colab": {}
      },
      "source": [
        "train = pd.read_pickle('data/train.p')\n",
        "test = pd.read_pickle('data/test.p')\n",
        "\n",
        "X_train, y_train = train['features'], train['labels']\n",
        "X_test, y_test = test['features'], test['labels']"
      ],
      "execution_count": 0,
      "outputs": []
    },
    {
      "cell_type": "code",
      "metadata": {
        "id": "ZI681ALk1o7A",
        "colab_type": "code",
        "colab": {}
      },
      "source": [
        "if y_train.ndim == 1: y_train = to_categorical(y_train)\n",
        "if y_test.ndim == 1: y_test = to_categorical(y_test)\n",
        "\n",
        "input_shape = X_train.shape[1:]\n",
        "num_classes = y_train.shape[1]"
      ],
      "execution_count": 0,
      "outputs": []
    },
    {
      "cell_type": "code",
      "metadata": {
        "id": "fvdYaOKY1vjU",
        "colab_type": "code",
        "colab": {}
      },
      "source": [
        "def train_model(model, X_train, y_train, params_fit={}):\n",
        "    model.compile(loss='categorical_crossentropy', optimizer='Adam', metrics=['accuracy'])\n",
        "\n",
        "    logdir = os.path.join('logs', datetime.datetime.now().strftime('%Y%m%d-%H%M%S'))\n",
        "    tensorboard_callback = tf.keras.callbacks.TensorBoard(logdir, histogram_freq=1)\n",
        "\n",
        "    model.fit(\n",
        "        X_train,\n",
        "        y_train,\n",
        "        batch_size = params_fit.get('batch_size', 128),\n",
        "        epochs = params_fit.get('epochs', 5),\n",
        "        verbose = params_fit.get('verbose', 1),\n",
        "        validation_data = params_fit.get('validation_data', (X_train, y_train)),\n",
        "        callbacks = [tensorboard_callback]\n",
        "    )\n",
        "    return model\n",
        "\n",
        "def predict(model_trained, X_test, y_test, scoring = accuracy_score):\n",
        "\n",
        "    y_test_norm = np.argmax(y_test, axis=1)\n",
        "\n",
        "    y_pred_prob = model_trained.predict(X_test)\n",
        "    y_pred = np.argmax(y_pred_prob, axis=1)\n",
        "\n",
        "    return scoring(y_test_norm, y_pred)"
      ],
      "execution_count": 0,
      "outputs": []
    },
    {
      "cell_type": "code",
      "metadata": {
        "id": "fF2z5vHZ2FzR",
        "colab_type": "code",
        "colab": {}
      },
      "source": [
        "def get_cnn_v5(input_shape, num_classes):\n",
        "    return Sequential([\n",
        "        Conv2D(filters=32, kernel_size=(3,3), activation='relu', input_shape = input_shape),\n",
        "        Conv2D(filters=32, kernel_size=(3,3), activation='relu', input_shape = input_shape),\n",
        "        Conv2D(filters=32, kernel_size=(3,3), activation='relu', padding='same'),\n",
        "        MaxPool2D(),\n",
        "        Dropout(0.3),\n",
        "\n",
        "        Conv2D(filters=64, kernel_size=(3,3), activation='relu', padding='same'),\n",
        "        Conv2D(filters=64, kernel_size=(3,3), activation='relu'),\n",
        "        MaxPool2D(),\n",
        "        Dropout(0.3),\n",
        "\n",
        "        Conv2D(filters=64, kernel_size=(3,3), activation='relu', padding='same'),\n",
        "        Conv2D(filters=64, kernel_size=(3,3), activation='relu'),\n",
        "        MaxPool2D(),\n",
        "        Dropout(0.3),\n",
        "\n",
        "        Flatten(),\n",
        "\n",
        "        Dense(1024, activation='relu'),\n",
        "        Dropout(0.3),\n",
        "        \n",
        "        Dense(1024, activation='relu'),\n",
        "        Dropout(0.3),\n",
        "\n",
        "        Dense(num_classes, activation='softmax')\n",
        "    ])"
      ],
      "execution_count": 0,
      "outputs": []
    },
    {
      "cell_type": "code",
      "metadata": {
        "id": "gqmXrmc-2dlh",
        "colab_type": "code",
        "colab": {
          "base_uri": "https://localhost:8080/",
          "height": 212
        },
        "outputId": "efe97e3c-7ff1-4283-b3e1-ea1518151e4f"
      },
      "source": [
        "model = get_cnn_v5(input_shape, num_classes)\n",
        "model_trained = train_model(model, X_train, y_train)\n",
        "\n",
        "predict(model_trained, X_test, y_test)"
      ],
      "execution_count": 9,
      "outputs": [
        {
          "output_type": "stream",
          "text": [
            "Epoch 1/5\n",
            "272/272 [==============================] - 4s 16ms/step - loss: 2.7551 - accuracy: 0.2485 - val_loss: 1.3728 - val_accuracy: 0.5729\n",
            "Epoch 2/5\n",
            "272/272 [==============================] - 4s 14ms/step - loss: 0.9660 - accuracy: 0.6949 - val_loss: 0.1973 - val_accuracy: 0.9432\n",
            "Epoch 3/5\n",
            "272/272 [==============================] - 4s 14ms/step - loss: 0.3623 - accuracy: 0.8909 - val_loss: 0.0793 - val_accuracy: 0.9746\n",
            "Epoch 4/5\n",
            "272/272 [==============================] - 4s 14ms/step - loss: 0.2191 - accuracy: 0.9348 - val_loss: 0.0461 - val_accuracy: 0.9874\n",
            "Epoch 5/5\n",
            "272/272 [==============================] - 4s 14ms/step - loss: 0.1699 - accuracy: 0.9507 - val_loss: 0.0309 - val_accuracy: 0.9905\n"
          ],
          "name": "stdout"
        },
        {
          "output_type": "execute_result",
          "data": {
            "text/plain": [
              "0.9673469387755103"
            ]
          },
          "metadata": {
            "tags": []
          },
          "execution_count": 9
        }
      ]
    },
    {
      "cell_type": "code",
      "metadata": {
        "id": "X6EWh_AK3xnb",
        "colab_type": "code",
        "colab": {
          "base_uri": "https://localhost:8080/",
          "height": 52
        },
        "outputId": "01cdd532-0d7b-4c70-945d-49d20b5fd33e"
      },
      "source": [
        "model_trained.evaluate(X_test, y_test)[1]"
      ],
      "execution_count": 11,
      "outputs": [
        {
          "output_type": "stream",
          "text": [
            "138/138 [==============================] - 0s 3ms/step - loss: 0.2045 - accuracy: 0.9673\n"
          ],
          "name": "stdout"
        },
        {
          "output_type": "execute_result",
          "data": {
            "text/plain": [
              "0.9673469662666321"
            ]
          },
          "metadata": {
            "tags": []
          },
          "execution_count": 11
        }
      ]
    },
    {
      "cell_type": "code",
      "metadata": {
        "id": "4oL_Pce67mwP",
        "colab_type": "code",
        "colab": {}
      },
      "source": [
        "def get_model(params):\n",
        "    return Sequential([\n",
        "        Conv2D(filters=32, kernel_size=(3,3), activation='relu', input_shape = input_shape),\n",
        "        Conv2D(filters=32, kernel_size=(3,3), activation='relu', padding='same'),\n",
        "        MaxPool2D(),\n",
        "        Dropout(params['dropout_cnn_block_one']),\n",
        "\n",
        "        Conv2D(filters=64, kernel_size=(3,3), activation='relu', padding='same'),\n",
        "        Conv2D(filters=64, kernel_size=(3,3), activation='relu'),\n",
        "        MaxPool2D(),\n",
        "        Dropout(params['dropout_cnn_block_two']),\n",
        "\n",
        "        Conv2D(filters=128, kernel_size=(3,3), activation='relu', padding='same'),\n",
        "        Conv2D(filters=128, kernel_size=(3,3), activation='relu'),\n",
        "        MaxPool2D(),\n",
        "        Dropout(params['dropout_cnn_block_three']),\n",
        "\n",
        "        Flatten(),\n",
        "\n",
        "        Dense(1024, activation='relu'),\n",
        "        Dropout(params['dropout_dense_block_one']),\n",
        "        \n",
        "        Dense(1024, activation='relu'),\n",
        "        Dropout(params['dropout_dense_block_two']),\n",
        "\n",
        "        Dense(num_classes, activation='softmax')\n",
        "    ])"
      ],
      "execution_count": 0,
      "outputs": []
    },
    {
      "cell_type": "code",
      "metadata": {
        "id": "o_lmp4fG2z7W",
        "colab_type": "code",
        "colab": {}
      },
      "source": [
        "def func_obj(params):\n",
        "    model = get_model(params)\n",
        "    model.compile(loss='categorical_crossentropy', optimizer='Adam', metrics=['accuracy'])\n",
        "\n",
        "    model.fit(\n",
        "        X_train,\n",
        "        y_train,\n",
        "        batch_size = int(params.get('batch_size', 128)),\n",
        "        epochs = 5,\n",
        "        verbose = 0,\n",
        "\n",
        "    )\n",
        "    score = model.evaluate(X_test, y_test, verbose=0)\n",
        "    accuracy = score[1]\n",
        "    print(params, 'accuracy={}'.format(accuracy))\n",
        "\n",
        "    return {'loss': -accuracy, 'status': STATUS_OK, 'model': model}"
      ],
      "execution_count": 0,
      "outputs": []
    },
    {
      "cell_type": "code",
      "metadata": {
        "id": "BVE7i-Ci6JBl",
        "colab_type": "code",
        "colab": {
          "base_uri": "https://localhost:8080/",
          "height": 1000
        },
        "outputId": "163c0093-afb1-472f-919e-ba41e2a28513"
      },
      "source": [
        "space ={\n",
        "    'batch_size': hp.quniform('batch_size', 100, 200, 10),\n",
        "    'dropout_cnn_block_one': hp.uniform('dropout_cnn_block_one', 0.3, 0.5),\n",
        "    'dropout_cnn_block_two': hp.uniform('dropout_cnn_block_two', 0.3, 0.5),\n",
        "    'dropout_cnn_block_three': hp.uniform('dropout_cnn_block_three', 0.3, 0.5),\n",
        "\n",
        "    'dropout_dense_block_one': hp.uniform('dropout_dense_block_one', 0.3, 0.7),\n",
        "    'dropout_dense_block_two': hp.uniform('dropout_dense_block_two', 0.3, 0.7)\n",
        "}\n",
        "\n",
        "best = fmin(\n",
        "    func_obj,\n",
        "    space,\n",
        "    tpe.suggest,\n",
        "    30,\n",
        "    Trials()\n",
        ")"
      ],
      "execution_count": 33,
      "outputs": [
        {
          "output_type": "stream",
          "text": [
            "{'batch_size': 160.0, 'dropout_cnn_block_one': 0.4149155835107487, 'dropout_cnn_block_three': 0.35917357015639784, 'dropout_cnn_block_two': 0.35374932276915233, 'dropout_dense_block_one': 0.46413745398773615, 'dropout_dense_block_two': 0.5046169125380096}\n",
            "accuracy=0.9532879590988159\n",
            "{'batch_size': 140.0, 'dropout_cnn_block_one': 0.32074603051992623, 'dropout_cnn_block_three': 0.47024758343267403, 'dropout_cnn_block_two': 0.36123356017401853, 'dropout_dense_block_one': 0.5247458359215679, 'dropout_dense_block_two': 0.3577838494162843}\n",
            "accuracy=0.9589568972587585\n",
            "{'batch_size': 180.0, 'dropout_cnn_block_one': 0.431766000601564, 'dropout_cnn_block_three': 0.33520349298391766, 'dropout_cnn_block_two': 0.42876209003776644, 'dropout_dense_block_one': 0.575679339242251, 'dropout_dense_block_two': 0.5313029794941687}\n",
            "accuracy=0.8659864068031311\n",
            "{'batch_size': 190.0, 'dropout_cnn_block_one': 0.40878354935639305, 'dropout_cnn_block_three': 0.3302670823275225, 'dropout_cnn_block_two': 0.38100630061038177, 'dropout_dense_block_one': 0.3394372689738654, 'dropout_dense_block_two': 0.31093546985831166}\n",
            "accuracy=0.940362811088562\n",
            "{'batch_size': 140.0, 'dropout_cnn_block_one': 0.4601381696583067, 'dropout_cnn_block_three': 0.38263070667236976, 'dropout_cnn_block_two': 0.40573940125090735, 'dropout_dense_block_one': 0.38191035798140804, 'dropout_dense_block_two': 0.47256519341423414}\n",
            "accuracy=0.9541950225830078\n",
            "{'batch_size': 140.0, 'dropout_cnn_block_one': 0.40412901296886217, 'dropout_cnn_block_three': 0.41794359298511274, 'dropout_cnn_block_two': 0.4316747888007468, 'dropout_dense_block_one': 0.6434066922912784, 'dropout_dense_block_two': 0.6980233772506024}\n",
            "accuracy=0.7936508059501648\n",
            "{'batch_size': 160.0, 'dropout_cnn_block_one': 0.4732274837587638, 'dropout_cnn_block_three': 0.377884243865627, 'dropout_cnn_block_two': 0.38650934203846266, 'dropout_dense_block_one': 0.5896664146297124, 'dropout_dense_block_two': 0.5478106849878548}\n",
            "accuracy=0.9124716520309448\n",
            "{'batch_size': 190.0, 'dropout_cnn_block_one': 0.34279313014306667, 'dropout_cnn_block_three': 0.4848573586398565, 'dropout_cnn_block_two': 0.4656081089783564, 'dropout_dense_block_one': 0.31640523227536455, 'dropout_dense_block_two': 0.6949535646248596}\n",
            "accuracy=0.8235827684402466\n",
            "{'batch_size': 140.0, 'dropout_cnn_block_one': 0.36212553804551995, 'dropout_cnn_block_three': 0.4179726031445294, 'dropout_cnn_block_two': 0.44045586108905366, 'dropout_dense_block_one': 0.32580497892750854, 'dropout_dense_block_two': 0.4857803486520309}\n",
            "accuracy=0.9346938729286194\n",
            "{'batch_size': 150.0, 'dropout_cnn_block_one': 0.326787306114015, 'dropout_cnn_block_three': 0.45551101837472346, 'dropout_cnn_block_two': 0.3622364719687685, 'dropout_dense_block_one': 0.30200480771801863, 'dropout_dense_block_two': 0.5754352207249739}\n",
            "accuracy=0.9578231573104858\n",
            "{'batch_size': 190.0, 'dropout_cnn_block_one': 0.376881224933594, 'dropout_cnn_block_three': 0.3226978803439445, 'dropout_cnn_block_two': 0.3079649640513747, 'dropout_dense_block_one': 0.40590324086307494, 'dropout_dense_block_two': 0.44078563426735523}\n",
            "accuracy=0.9496598839759827\n",
            "{'batch_size': 130.0, 'dropout_cnn_block_one': 0.4448960925916318, 'dropout_cnn_block_three': 0.4180504030214345, 'dropout_cnn_block_two': 0.4587104838151874, 'dropout_dense_block_one': 0.6254616963428015, 'dropout_dense_block_two': 0.4717198018569676}\n",
            "accuracy=0.8668934106826782\n",
            "{'batch_size': 200.0, 'dropout_cnn_block_one': 0.30689202051960757, 'dropout_cnn_block_three': 0.4614166021373455, 'dropout_cnn_block_two': 0.49021973165512966, 'dropout_dense_block_one': 0.6812367685422636, 'dropout_dense_block_two': 0.6730703628405837}\n",
            "accuracy=0.6213151812553406\n",
            "{'batch_size': 110.0, 'dropout_cnn_block_one': 0.3504034662691691, 'dropout_cnn_block_three': 0.45351830601665866, 'dropout_cnn_block_two': 0.3362435969124687, 'dropout_dense_block_one': 0.4182755824489829, 'dropout_dense_block_two': 0.5865060220261589}\n",
            "accuracy=0.9507936239242554\n",
            "{'batch_size': 200.0, 'dropout_cnn_block_one': 0.3409614849847588, 'dropout_cnn_block_three': 0.39836255599989645, 'dropout_cnn_block_two': 0.3679281078977187, 'dropout_dense_block_one': 0.3326549585335539, 'dropout_dense_block_two': 0.5426692261061746}\n",
            "accuracy=0.94399094581604\n",
            "{'batch_size': 200.0, 'dropout_cnn_block_one': 0.4524843885054905, 'dropout_cnn_block_three': 0.4950111347117241, 'dropout_cnn_block_two': 0.4011379141619069, 'dropout_dense_block_one': 0.3834862384987294, 'dropout_dense_block_two': 0.4961286183894088}\n",
            "accuracy=0.875283420085907\n",
            "{'batch_size': 140.0, 'dropout_cnn_block_one': 0.3494963691034557, 'dropout_cnn_block_three': 0.33573160419127374, 'dropout_cnn_block_two': 0.48840038434991306, 'dropout_dense_block_one': 0.6618784913645321, 'dropout_dense_block_two': 0.6347399695112408}\n",
            "accuracy=0.8303855061531067\n",
            "{'batch_size': 160.0, 'dropout_cnn_block_one': 0.35202451386596945, 'dropout_cnn_block_three': 0.3036044571365205, 'dropout_cnn_block_two': 0.434870468115251, 'dropout_dense_block_one': 0.369363331955314, 'dropout_dense_block_two': 0.6393151974015974}\n",
            "accuracy=0.9319728016853333\n",
            "{'batch_size': 150.0, 'dropout_cnn_block_one': 0.3396830503571458, 'dropout_cnn_block_three': 0.4013557574237764, 'dropout_cnn_block_two': 0.4000433947377153, 'dropout_dense_block_one': 0.648317445853314, 'dropout_dense_block_two': 0.4105412488280128}\n",
            "accuracy=0.9249433279037476\n",
            "{'batch_size': 110.0, 'dropout_cnn_block_one': 0.35246136432541125, 'dropout_cnn_block_three': 0.3528904847638891, 'dropout_cnn_block_two': 0.3722439162498622, 'dropout_dense_block_one': 0.3265200249487574, 'dropout_dense_block_two': 0.4221938876878888}\n",
            "accuracy=0.9696145057678223\n",
            "{'batch_size': 100.0, 'dropout_cnn_block_one': 0.30074097612892514, 'dropout_cnn_block_three': 0.3579479541721438, 'dropout_cnn_block_two': 0.3302491876999456, 'dropout_dense_block_one': 0.5273989639073997, 'dropout_dense_block_two': 0.3665248223493}\n",
            "accuracy=0.9680272340774536\n",
            "{'batch_size': 100.0, 'dropout_cnn_block_one': 0.30000738476514094, 'dropout_cnn_block_three': 0.36577911104110356, 'dropout_cnn_block_two': 0.3018531718254723, 'dropout_dense_block_one': 0.504476526200609, 'dropout_dense_block_two': 0.3731125738996321}\n",
            "accuracy=0.9521542191505432\n",
            "{'batch_size': 110.0, 'dropout_cnn_block_one': 0.3786409891883122, 'dropout_cnn_block_three': 0.3532776801639439, 'dropout_cnn_block_two': 0.3286576552708517, 'dropout_dense_block_one': 0.4462736759403709, 'dropout_dense_block_two': 0.30431825927970474}\n",
            "accuracy=0.96417236328125\n",
            "{'batch_size': 100.0, 'dropout_cnn_block_one': 0.30827364063449797, 'dropout_cnn_block_three': 0.3030523771669052, 'dropout_cnn_block_two': 0.3212699091567216, 'dropout_dense_block_one': 0.5573764405384459, 'dropout_dense_block_two': 0.357133620178311}\n",
            "accuracy=0.9659863710403442\n",
            "{'batch_size': 120.0, 'dropout_cnn_block_one': 0.38352487722696316, 'dropout_cnn_block_three': 0.31455087888410804, 'dropout_cnn_block_two': 0.34353754692844607, 'dropout_dense_block_one': 0.47155462891643785, 'dropout_dense_block_two': 0.4083279227882486}\n",
            "accuracy=0.9730158448219299\n",
            "{'batch_size': 120.0, 'dropout_cnn_block_one': 0.384580003918421, 'dropout_cnn_block_three': 0.31528810855088346, 'dropout_cnn_block_two': 0.3458861288797842, 'dropout_dense_block_one': 0.46197781071079147, 'dropout_dense_block_two': 0.4208932034487951}\n",
            "accuracy=0.9244897961616516\n",
            "{'batch_size': 120.0, 'dropout_cnn_block_one': 0.38991842412333344, 'dropout_cnn_block_three': 0.3451825064713008, 'dropout_cnn_block_two': 0.379123299839998, 'dropout_dense_block_one': 0.4296727125680463, 'dropout_dense_block_two': 0.3970765386278093}\n",
            "accuracy=0.9594104290008545\n",
            "{'batch_size': 120.0, 'dropout_cnn_block_one': 0.3680065507449406, 'dropout_cnn_block_three': 0.30183547250104825, 'dropout_cnn_block_two': 0.41754714919424735, 'dropout_dense_block_one': 0.49191617442251145, 'dropout_dense_block_two': 0.4436754161962084}\n",
            "accuracy=0.9523809552192688\n",
            "{'batch_size': 110.0, 'dropout_cnn_block_one': 0.42365098645831345, 'dropout_cnn_block_three': 0.3164236939799532, 'dropout_cnn_block_two': 0.3152171815470831, 'dropout_dense_block_one': 0.48325709485829804, 'dropout_dense_block_two': 0.4441676244621635}\n",
            "accuracy=0.9632652997970581\n",
            "{'batch_size': 130.0, 'dropout_cnn_block_one': 0.39626953803194115, 'dropout_cnn_block_three': 0.3774569924167326, 'dropout_cnn_block_two': 0.34523707573784, 'dropout_dense_block_one': 0.3553134834190744, 'dropout_dense_block_two': 0.31528078938170867}\n",
            "accuracy=0.9571428298950195\n",
            "100%|██████████| 30/30 [05:29<00:00, 10.97s/it, best loss: -0.9730158448219299]\n"
          ],
          "name": "stdout"
        }
      ]
    },
    {
      "cell_type": "code",
      "metadata": {
        "id": "uyQHc59I6vkD",
        "colab_type": "code",
        "colab": {}
      },
      "source": [
        ""
      ],
      "execution_count": 0,
      "outputs": []
    }
  ]
}